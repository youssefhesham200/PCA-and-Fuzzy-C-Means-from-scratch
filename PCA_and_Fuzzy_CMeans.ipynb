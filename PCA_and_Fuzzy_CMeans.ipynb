{
  "cells": [
    {
      "cell_type": "markdown",
      "metadata": {
        "id": "view-in-github",
        "colab_type": "text"
      },
      "source": [
        "<a href=\"https://colab.research.google.com/github/youssefhesham200/PCA-and-Fuzzy-C-Means-from-scratch/blob/master/PCA_and_Fuzzy_CMeans.ipynb\" target=\"_parent\"><img src=\"https://colab.research.google.com/assets/colab-badge.svg\" alt=\"Open In Colab\"/></a>"
      ]
    },
    {
      "cell_type": "code",
      "execution_count": null,
      "id": "c98b5479",
      "metadata": {
        "id": "c98b5479"
      },
      "outputs": [],
      "source": [
        "import pandas as pd\n",
        "import numpy as np\n",
        "import matplotlib.pyplot as plt\n",
        "import seaborn as sns\n",
        "from sklearn.preprocessing import FunctionTransformer\n",
        "from scipy.spatial.distance import euclidean\n",
        "from sklearn.metrics import accuracy_score"
      ]
    },
    {
      "cell_type": "code",
      "execution_count": null,
      "id": "3388ec50",
      "metadata": {
        "id": "3388ec50",
        "outputId": "c4d70fac-9b96-4d15-c11e-988ca7e8d03b"
      },
      "outputs": [
        {
          "data": {
            "text/html": [
              "<div>\n",
              "<style scoped>\n",
              "    .dataframe tbody tr th:only-of-type {\n",
              "        vertical-align: middle;\n",
              "    }\n",
              "\n",
              "    .dataframe tbody tr th {\n",
              "        vertical-align: top;\n",
              "    }\n",
              "\n",
              "    .dataframe thead th {\n",
              "        text-align: right;\n",
              "    }\n",
              "</style>\n",
              "<table border=\"1\" class=\"dataframe\">\n",
              "  <thead>\n",
              "    <tr style=\"text-align: right;\">\n",
              "      <th></th>\n",
              "      <th>PassengerId</th>\n",
              "      <th>Survived</th>\n",
              "      <th>Pclass</th>\n",
              "      <th>Name</th>\n",
              "      <th>Sex</th>\n",
              "      <th>Age</th>\n",
              "      <th>SibSp</th>\n",
              "      <th>Parch</th>\n",
              "      <th>Ticket</th>\n",
              "      <th>Fare</th>\n",
              "      <th>Cabin</th>\n",
              "      <th>Embarked</th>\n",
              "    </tr>\n",
              "  </thead>\n",
              "  <tbody>\n",
              "    <tr>\n",
              "      <th>0</th>\n",
              "      <td>1</td>\n",
              "      <td>0</td>\n",
              "      <td>3</td>\n",
              "      <td>Braund, Mr. Owen Harris</td>\n",
              "      <td>male</td>\n",
              "      <td>22.0</td>\n",
              "      <td>1</td>\n",
              "      <td>0</td>\n",
              "      <td>A/5 21171</td>\n",
              "      <td>7.2500</td>\n",
              "      <td>NaN</td>\n",
              "      <td>S</td>\n",
              "    </tr>\n",
              "    <tr>\n",
              "      <th>1</th>\n",
              "      <td>2</td>\n",
              "      <td>1</td>\n",
              "      <td>1</td>\n",
              "      <td>Cumings, Mrs. John Bradley (Florence Briggs Th...</td>\n",
              "      <td>female</td>\n",
              "      <td>38.0</td>\n",
              "      <td>1</td>\n",
              "      <td>0</td>\n",
              "      <td>PC 17599</td>\n",
              "      <td>71.2833</td>\n",
              "      <td>C85</td>\n",
              "      <td>C</td>\n",
              "    </tr>\n",
              "    <tr>\n",
              "      <th>2</th>\n",
              "      <td>3</td>\n",
              "      <td>1</td>\n",
              "      <td>3</td>\n",
              "      <td>Heikkinen, Miss. Laina</td>\n",
              "      <td>female</td>\n",
              "      <td>26.0</td>\n",
              "      <td>0</td>\n",
              "      <td>0</td>\n",
              "      <td>STON/O2. 3101282</td>\n",
              "      <td>7.9250</td>\n",
              "      <td>NaN</td>\n",
              "      <td>S</td>\n",
              "    </tr>\n",
              "    <tr>\n",
              "      <th>3</th>\n",
              "      <td>4</td>\n",
              "      <td>1</td>\n",
              "      <td>1</td>\n",
              "      <td>Futrelle, Mrs. Jacques Heath (Lily May Peel)</td>\n",
              "      <td>female</td>\n",
              "      <td>35.0</td>\n",
              "      <td>1</td>\n",
              "      <td>0</td>\n",
              "      <td>113803</td>\n",
              "      <td>53.1000</td>\n",
              "      <td>C123</td>\n",
              "      <td>S</td>\n",
              "    </tr>\n",
              "    <tr>\n",
              "      <th>4</th>\n",
              "      <td>5</td>\n",
              "      <td>0</td>\n",
              "      <td>3</td>\n",
              "      <td>Allen, Mr. William Henry</td>\n",
              "      <td>male</td>\n",
              "      <td>35.0</td>\n",
              "      <td>0</td>\n",
              "      <td>0</td>\n",
              "      <td>373450</td>\n",
              "      <td>8.0500</td>\n",
              "      <td>NaN</td>\n",
              "      <td>S</td>\n",
              "    </tr>\n",
              "  </tbody>\n",
              "</table>\n",
              "</div>"
            ],
            "text/plain": [
              "   PassengerId  Survived  Pclass  \\\n",
              "0            1         0       3   \n",
              "1            2         1       1   \n",
              "2            3         1       3   \n",
              "3            4         1       1   \n",
              "4            5         0       3   \n",
              "\n",
              "                                                Name     Sex   Age  SibSp  \\\n",
              "0                            Braund, Mr. Owen Harris    male  22.0      1   \n",
              "1  Cumings, Mrs. John Bradley (Florence Briggs Th...  female  38.0      1   \n",
              "2                             Heikkinen, Miss. Laina  female  26.0      0   \n",
              "3       Futrelle, Mrs. Jacques Heath (Lily May Peel)  female  35.0      1   \n",
              "4                           Allen, Mr. William Henry    male  35.0      0   \n",
              "\n",
              "   Parch            Ticket     Fare Cabin Embarked  \n",
              "0      0         A/5 21171   7.2500   NaN        S  \n",
              "1      0          PC 17599  71.2833   C85        C  \n",
              "2      0  STON/O2. 3101282   7.9250   NaN        S  \n",
              "3      0            113803  53.1000  C123        S  \n",
              "4      0            373450   8.0500   NaN        S  "
            ]
          },
          "execution_count": 2,
          "metadata": {},
          "output_type": "execute_result"
        }
      ],
      "source": [
        "train_data = pd.read_csv('E:\\\\datasets\\\\titanic.csv')\n",
        "train_data.head()"
      ]
    },
    {
      "cell_type": "code",
      "execution_count": null,
      "id": "566bfa8f",
      "metadata": {
        "id": "566bfa8f",
        "outputId": "62cfb62e-56ef-4fb8-e94c-62463a4d9c41"
      },
      "outputs": [
        {
          "data": {
            "text/html": [
              "<div>\n",
              "<style scoped>\n",
              "    .dataframe tbody tr th:only-of-type {\n",
              "        vertical-align: middle;\n",
              "    }\n",
              "\n",
              "    .dataframe tbody tr th {\n",
              "        vertical-align: top;\n",
              "    }\n",
              "\n",
              "    .dataframe thead th {\n",
              "        text-align: right;\n",
              "    }\n",
              "</style>\n",
              "<table border=\"1\" class=\"dataframe\">\n",
              "  <thead>\n",
              "    <tr style=\"text-align: right;\">\n",
              "      <th></th>\n",
              "      <th>Pclass</th>\n",
              "      <th>Sex</th>\n",
              "      <th>Age</th>\n",
              "      <th>SibSp</th>\n",
              "      <th>Parch</th>\n",
              "      <th>Fare</th>\n",
              "      <th>Embarked</th>\n",
              "    </tr>\n",
              "  </thead>\n",
              "  <tbody>\n",
              "    <tr>\n",
              "      <th>0</th>\n",
              "      <td>3</td>\n",
              "      <td>male</td>\n",
              "      <td>22.0</td>\n",
              "      <td>1</td>\n",
              "      <td>0</td>\n",
              "      <td>7.2500</td>\n",
              "      <td>S</td>\n",
              "    </tr>\n",
              "    <tr>\n",
              "      <th>1</th>\n",
              "      <td>1</td>\n",
              "      <td>female</td>\n",
              "      <td>38.0</td>\n",
              "      <td>1</td>\n",
              "      <td>0</td>\n",
              "      <td>71.2833</td>\n",
              "      <td>C</td>\n",
              "    </tr>\n",
              "    <tr>\n",
              "      <th>2</th>\n",
              "      <td>3</td>\n",
              "      <td>female</td>\n",
              "      <td>26.0</td>\n",
              "      <td>0</td>\n",
              "      <td>0</td>\n",
              "      <td>7.9250</td>\n",
              "      <td>S</td>\n",
              "    </tr>\n",
              "    <tr>\n",
              "      <th>3</th>\n",
              "      <td>1</td>\n",
              "      <td>female</td>\n",
              "      <td>35.0</td>\n",
              "      <td>1</td>\n",
              "      <td>0</td>\n",
              "      <td>53.1000</td>\n",
              "      <td>S</td>\n",
              "    </tr>\n",
              "    <tr>\n",
              "      <th>4</th>\n",
              "      <td>3</td>\n",
              "      <td>male</td>\n",
              "      <td>35.0</td>\n",
              "      <td>0</td>\n",
              "      <td>0</td>\n",
              "      <td>8.0500</td>\n",
              "      <td>S</td>\n",
              "    </tr>\n",
              "  </tbody>\n",
              "</table>\n",
              "</div>"
            ],
            "text/plain": [
              "   Pclass     Sex   Age  SibSp  Parch     Fare Embarked\n",
              "0       3    male  22.0      1      0   7.2500        S\n",
              "1       1  female  38.0      1      0  71.2833        C\n",
              "2       3  female  26.0      0      0   7.9250        S\n",
              "3       1  female  35.0      1      0  53.1000        S\n",
              "4       3    male  35.0      0      0   8.0500        S"
            ]
          },
          "execution_count": 3,
          "metadata": {},
          "output_type": "execute_result"
        }
      ],
      "source": [
        "# Drop columns that are not used in training data\n",
        "train_unlabel = train_data.drop(['PassengerId','Name','Ticket','Cabin', 'Survived'], axis=1)\n",
        "train_unlabel.head()"
      ]
    },
    {
      "cell_type": "code",
      "execution_count": null,
      "id": "52d1c2e7",
      "metadata": {
        "id": "52d1c2e7"
      },
      "outputs": [],
      "source": [
        "y_true = train_data['Survived']"
      ]
    },
    {
      "cell_type": "code",
      "execution_count": null,
      "id": "48904d0f",
      "metadata": {
        "id": "48904d0f",
        "outputId": "131baeda-5dbf-4ef4-f88f-9da0c77fc2c6"
      },
      "outputs": [
        {
          "data": {
            "text/plain": [
              "Pclass        0\n",
              "Sex           0\n",
              "Age         177\n",
              "SibSp         0\n",
              "Parch         0\n",
              "Fare          0\n",
              "Embarked      2\n",
              "dtype: int64"
            ]
          },
          "execution_count": 5,
          "metadata": {},
          "output_type": "execute_result"
        }
      ],
      "source": [
        "train_unlabel.isna().sum()"
      ]
    },
    {
      "cell_type": "code",
      "execution_count": null,
      "id": "e57a2676",
      "metadata": {
        "id": "e57a2676",
        "outputId": "166d6b7b-b1c4-4e20-bbaf-9ffdd59671a5"
      },
      "outputs": [
        {
          "data": {
            "text/plain": [
              "S    644\n",
              "C    168\n",
              "Q     77\n",
              "Name: Embarked, dtype: int64"
            ]
          },
          "execution_count": 6,
          "metadata": {},
          "output_type": "execute_result"
        }
      ],
      "source": [
        "train_unlabel['Embarked'].value_counts()\n"
      ]
    },
    {
      "cell_type": "code",
      "execution_count": null,
      "id": "24f47657",
      "metadata": {
        "id": "24f47657"
      },
      "outputs": [],
      "source": [
        "train_unlabel['Embarked'] = train_unlabel['Embarked'].fillna('S')\n"
      ]
    },
    {
      "cell_type": "code",
      "execution_count": null,
      "id": "8990b03d",
      "metadata": {
        "id": "8990b03d"
      },
      "outputs": [],
      "source": [
        "train_unlabel['Age'] = train_unlabel['Age'].fillna(train_unlabel['Age'].mean())\n"
      ]
    },
    {
      "cell_type": "code",
      "execution_count": null,
      "id": "b9145bbd",
      "metadata": {
        "id": "b9145bbd",
        "outputId": "fdd236f3-ab13-4d55-ae94-69021d5c8d2f"
      },
      "outputs": [
        {
          "data": {
            "text/plain": [
              "Pclass      0\n",
              "Sex         0\n",
              "Age         0\n",
              "SibSp       0\n",
              "Parch       0\n",
              "Fare        0\n",
              "Embarked    0\n",
              "dtype: int64"
            ]
          },
          "execution_count": 9,
          "metadata": {},
          "output_type": "execute_result"
        }
      ],
      "source": [
        "train_unlabel.isna().sum()"
      ]
    },
    {
      "cell_type": "code",
      "execution_count": null,
      "id": "fa5d17fc",
      "metadata": {
        "id": "fa5d17fc"
      },
      "outputs": [],
      "source": [
        "train_unlabel = pd.get_dummies(train_unlabel, drop_first=True)\n"
      ]
    },
    {
      "cell_type": "code",
      "execution_count": null,
      "id": "b6c946c3",
      "metadata": {
        "id": "b6c946c3",
        "outputId": "3f06eba0-20fe-404f-9b67-549d4761f2aa"
      },
      "outputs": [
        {
          "data": {
            "text/html": [
              "<div>\n",
              "<style scoped>\n",
              "    .dataframe tbody tr th:only-of-type {\n",
              "        vertical-align: middle;\n",
              "    }\n",
              "\n",
              "    .dataframe tbody tr th {\n",
              "        vertical-align: top;\n",
              "    }\n",
              "\n",
              "    .dataframe thead th {\n",
              "        text-align: right;\n",
              "    }\n",
              "</style>\n",
              "<table border=\"1\" class=\"dataframe\">\n",
              "  <thead>\n",
              "    <tr style=\"text-align: right;\">\n",
              "      <th></th>\n",
              "      <th>Pclass</th>\n",
              "      <th>Age</th>\n",
              "      <th>SibSp</th>\n",
              "      <th>Parch</th>\n",
              "      <th>Fare</th>\n",
              "      <th>Sex_male</th>\n",
              "      <th>Embarked_Q</th>\n",
              "      <th>Embarked_S</th>\n",
              "    </tr>\n",
              "  </thead>\n",
              "  <tbody>\n",
              "    <tr>\n",
              "      <th>0</th>\n",
              "      <td>3</td>\n",
              "      <td>22.0</td>\n",
              "      <td>1</td>\n",
              "      <td>0</td>\n",
              "      <td>7.2500</td>\n",
              "      <td>1</td>\n",
              "      <td>0</td>\n",
              "      <td>1</td>\n",
              "    </tr>\n",
              "    <tr>\n",
              "      <th>1</th>\n",
              "      <td>1</td>\n",
              "      <td>38.0</td>\n",
              "      <td>1</td>\n",
              "      <td>0</td>\n",
              "      <td>71.2833</td>\n",
              "      <td>0</td>\n",
              "      <td>0</td>\n",
              "      <td>0</td>\n",
              "    </tr>\n",
              "    <tr>\n",
              "      <th>2</th>\n",
              "      <td>3</td>\n",
              "      <td>26.0</td>\n",
              "      <td>0</td>\n",
              "      <td>0</td>\n",
              "      <td>7.9250</td>\n",
              "      <td>0</td>\n",
              "      <td>0</td>\n",
              "      <td>1</td>\n",
              "    </tr>\n",
              "    <tr>\n",
              "      <th>3</th>\n",
              "      <td>1</td>\n",
              "      <td>35.0</td>\n",
              "      <td>1</td>\n",
              "      <td>0</td>\n",
              "      <td>53.1000</td>\n",
              "      <td>0</td>\n",
              "      <td>0</td>\n",
              "      <td>1</td>\n",
              "    </tr>\n",
              "    <tr>\n",
              "      <th>4</th>\n",
              "      <td>3</td>\n",
              "      <td>35.0</td>\n",
              "      <td>0</td>\n",
              "      <td>0</td>\n",
              "      <td>8.0500</td>\n",
              "      <td>1</td>\n",
              "      <td>0</td>\n",
              "      <td>1</td>\n",
              "    </tr>\n",
              "  </tbody>\n",
              "</table>\n",
              "</div>"
            ],
            "text/plain": [
              "   Pclass   Age  SibSp  Parch     Fare  Sex_male  Embarked_Q  Embarked_S\n",
              "0       3  22.0      1      0   7.2500         1           0           1\n",
              "1       1  38.0      1      0  71.2833         0           0           0\n",
              "2       3  26.0      0      0   7.9250         0           0           1\n",
              "3       1  35.0      1      0  53.1000         0           0           1\n",
              "4       3  35.0      0      0   8.0500         1           0           1"
            ]
          },
          "execution_count": 11,
          "metadata": {},
          "output_type": "execute_result"
        }
      ],
      "source": [
        "train_unlabel.head()"
      ]
    },
    {
      "cell_type": "code",
      "execution_count": null,
      "id": "7517afc8",
      "metadata": {
        "id": "7517afc8"
      },
      "outputs": [],
      "source": [
        "scaler = FunctionTransformer(np.log1p)\n",
        "train_unlabel = scaler.transform(train_unlabel)"
      ]
    },
    {
      "cell_type": "code",
      "execution_count": null,
      "id": "c1386c8e",
      "metadata": {
        "id": "c1386c8e",
        "outputId": "2c047ca6-f33c-4d26-d56f-6f6a1d530b57"
      },
      "outputs": [
        {
          "data": {
            "text/html": [
              "<div>\n",
              "<style scoped>\n",
              "    .dataframe tbody tr th:only-of-type {\n",
              "        vertical-align: middle;\n",
              "    }\n",
              "\n",
              "    .dataframe tbody tr th {\n",
              "        vertical-align: top;\n",
              "    }\n",
              "\n",
              "    .dataframe thead th {\n",
              "        text-align: right;\n",
              "    }\n",
              "</style>\n",
              "<table border=\"1\" class=\"dataframe\">\n",
              "  <thead>\n",
              "    <tr style=\"text-align: right;\">\n",
              "      <th></th>\n",
              "      <th>Pclass</th>\n",
              "      <th>Age</th>\n",
              "      <th>SibSp</th>\n",
              "      <th>Parch</th>\n",
              "      <th>Fare</th>\n",
              "      <th>Sex_male</th>\n",
              "      <th>Embarked_Q</th>\n",
              "      <th>Embarked_S</th>\n",
              "    </tr>\n",
              "  </thead>\n",
              "  <tbody>\n",
              "    <tr>\n",
              "      <th>0</th>\n",
              "      <td>1.386294</td>\n",
              "      <td>3.135494</td>\n",
              "      <td>0.693147</td>\n",
              "      <td>0.0</td>\n",
              "      <td>2.110213</td>\n",
              "      <td>0.693359</td>\n",
              "      <td>0.0</td>\n",
              "      <td>0.693359</td>\n",
              "    </tr>\n",
              "    <tr>\n",
              "      <th>1</th>\n",
              "      <td>0.693147</td>\n",
              "      <td>3.663562</td>\n",
              "      <td>0.693147</td>\n",
              "      <td>0.0</td>\n",
              "      <td>4.280593</td>\n",
              "      <td>0.000000</td>\n",
              "      <td>0.0</td>\n",
              "      <td>0.000000</td>\n",
              "    </tr>\n",
              "    <tr>\n",
              "      <th>2</th>\n",
              "      <td>1.386294</td>\n",
              "      <td>3.295837</td>\n",
              "      <td>0.000000</td>\n",
              "      <td>0.0</td>\n",
              "      <td>2.188856</td>\n",
              "      <td>0.000000</td>\n",
              "      <td>0.0</td>\n",
              "      <td>0.693359</td>\n",
              "    </tr>\n",
              "    <tr>\n",
              "      <th>3</th>\n",
              "      <td>0.693147</td>\n",
              "      <td>3.583519</td>\n",
              "      <td>0.693147</td>\n",
              "      <td>0.0</td>\n",
              "      <td>3.990834</td>\n",
              "      <td>0.000000</td>\n",
              "      <td>0.0</td>\n",
              "      <td>0.693359</td>\n",
              "    </tr>\n",
              "    <tr>\n",
              "      <th>4</th>\n",
              "      <td>1.386294</td>\n",
              "      <td>3.583519</td>\n",
              "      <td>0.000000</td>\n",
              "      <td>0.0</td>\n",
              "      <td>2.202765</td>\n",
              "      <td>0.693359</td>\n",
              "      <td>0.0</td>\n",
              "      <td>0.693359</td>\n",
              "    </tr>\n",
              "  </tbody>\n",
              "</table>\n",
              "</div>"
            ],
            "text/plain": [
              "     Pclass       Age     SibSp  Parch      Fare  Sex_male  Embarked_Q  \\\n",
              "0  1.386294  3.135494  0.693147    0.0  2.110213  0.693359         0.0   \n",
              "1  0.693147  3.663562  0.693147    0.0  4.280593  0.000000         0.0   \n",
              "2  1.386294  3.295837  0.000000    0.0  2.188856  0.000000         0.0   \n",
              "3  0.693147  3.583519  0.693147    0.0  3.990834  0.000000         0.0   \n",
              "4  1.386294  3.583519  0.000000    0.0  2.202765  0.693359         0.0   \n",
              "\n",
              "   Embarked_S  \n",
              "0    0.693359  \n",
              "1    0.000000  \n",
              "2    0.693359  \n",
              "3    0.693359  \n",
              "4    0.693359  "
            ]
          },
          "execution_count": 13,
          "metadata": {},
          "output_type": "execute_result"
        }
      ],
      "source": [
        "train_unlabel.head()"
      ]
    },
    {
      "cell_type": "code",
      "execution_count": null,
      "id": "4e9f0ddf",
      "metadata": {
        "id": "4e9f0ddf"
      },
      "outputs": [],
      "source": [
        "train_unlabel = np.array(train_unlabel)"
      ]
    },
    {
      "cell_type": "code",
      "execution_count": null,
      "id": "6a81e2a3",
      "metadata": {
        "id": "6a81e2a3",
        "outputId": "00ed5b05-5950-4300-f133-a25eedcc7d13"
      },
      "outputs": [
        {
          "data": {
            "text/plain": [
              "(891, 8)"
            ]
          },
          "execution_count": 15,
          "metadata": {},
          "output_type": "execute_result"
        }
      ],
      "source": [
        "train_unlabel.shape"
      ]
    },
    {
      "cell_type": "code",
      "execution_count": null,
      "id": "de618a34",
      "metadata": {
        "id": "de618a34"
      },
      "outputs": [],
      "source": [
        "#parameters --> any number of components less than features.\n",
        "\n",
        "def pca(train_unlabel, n_components):\n",
        "   \n",
        "    # implement pca to reduce features to 3\n",
        "    X_meaned = train_unlabel - np.mean(train_unlabel, axis = 0)\n",
        "    n_features = train_unlabel.shape[1]\n",
        "    \n",
        "    #calc covarience matrix\n",
        "    sumi = np.zeros((n_features, n_features))\n",
        "    for i in range(X_meaned.shape[0]):\n",
        "        sumi = np.add(sumi, np.dot(X_meaned[i, :].reshape(n_features,-1), X_meaned[i, :].reshape(n_features,-1).T))\n",
        "\n",
        "    cov_mat = sumi / X_meaned.shape[0]\n",
        "    \n",
        "    #calc eigen values and eigen vectors from covarience matrix\n",
        "    eigen_values , eigen_vectors = np.linalg.eigh(cov_mat)\n",
        "\n",
        "    #sort the eigenvalues in descending order\n",
        "    sorted_index = np.argsort(eigen_values)[::-1]\n",
        "\n",
        "    #sorted_eigenvalue = eigen_values[sorted_index]\n",
        "\n",
        "    #similarly sort the eigenvectors \n",
        "    sorted_eigenvectors = eigen_vectors[:,sorted_index]\n",
        "    \n",
        "    eigenvector_subset = sorted_eigenvectors[:,0:n_components]\n",
        "    \n",
        "    print(eigenvector_subset.shape)\n",
        "    \n",
        "    X_projected = np.dot(eigenvector_subset.transpose(),X_meaned.transpose()).transpose() #3 * 8 * 8 * 800 .T = 891 * 3\n",
        "\n",
        "    return X_projected\n",
        "    "
      ]
    },
    {
      "cell_type": "code",
      "execution_count": null,
      "id": "417d51a5",
      "metadata": {
        "id": "417d51a5"
      },
      "outputs": [],
      "source": [
        "# implement fuzzy c_means\n",
        "\n",
        "class fuzzy_c():\n",
        "    \n",
        "    # 1 - init membership (no of samples * no of clusters)\n",
        "    \n",
        "    #parametars is our data , number of clusters , g for level of cluster fuzziness\n",
        "    def __init__(self, train_data, culsters , g):\n",
        "        self.membership =[]\n",
        "        self.centroids = []\n",
        "        self.distances = []\n",
        "        self.train_data = train_data\n",
        "        self.culsters = culsters\n",
        "        self.g = g\n",
        "        \n",
        "        for i in range(len(train_data)):\n",
        "            self.membership.append(np.random.dirichlet(np.ones(culsters),size=1))\n",
        "        \n",
        "        self.membership = np.array(self.membership).reshape(len(train_data), self.culsters)\n",
        "    \n",
        "    \n",
        "    def compute_centriod(self):\n",
        "        self.centroids = []\n",
        "        centroid = []\n",
        "        for col_clus in range(self.culsters):\n",
        "            b = np.sum(np.power(self.membership[: , col_clus], self.g))\n",
        "            centroid = []\n",
        "            for col_feuture in range(self.train_data.shape[1]):\n",
        "                a = np.dot(np.power(self.membership[: , col_clus], self.g) ,  self.train_data[:, col_feuture])\n",
        "                centroid.append(a / b)\n",
        "            self.centroids.append(centroid)\n",
        "        \n",
        "        self.centroids = np.array(self.centroids)\n",
        "\n",
        "        \n",
        "    def compute_distinces(self):\n",
        "        self.distances = []\n",
        "        for point in range(len(self.train_data)):\n",
        "            dist = []\n",
        "            \n",
        "            for clus in range(self.culsters):\n",
        "                dist.append(euclidean(self.train_data[point, :], self.centroids[clus]))\n",
        "            \n",
        "            self.distances.append(dist)\n",
        "        \n",
        "        self.distances = np.array(self.distances)\n",
        "        \n",
        "    \n",
        "    def update_membership(self):\n",
        "        p = 2 / (self.g-1)\n",
        "        \n",
        "        for i in range(len(self.membership)):\n",
        "            for j in range(self.membership.shape[1]):\n",
        "                self.membership[i, j] = 1 / np.sum(np.power(self.distances[i,j] / self.distances [i , :], p)) \n",
        "            \n",
        "    \n",
        "    # determine number of iterations \n",
        "    def fit(self, iterations):\n",
        "        for i in range(iterations):\n",
        "            self.compute_centriod()\n",
        "            self.compute_distinces()\n",
        "            self.update_membership()\n",
        "        \n",
        "        return self.membership\n",
        "        \n",
        "    # map max membership value to its cluster    \n",
        "    def pridect(self):\n",
        "        pridection = []\n",
        "        for i in range(len(self.membership)):\n",
        "            pridection.append(np.argmax(list(self.membership[i,:])))\n",
        "        \n",
        "        return pridection\n",
        "        \n",
        "        "
      ]
    },
    {
      "cell_type": "code",
      "execution_count": null,
      "id": "b4c6c952",
      "metadata": {
        "id": "b4c6c952"
      },
      "outputs": [],
      "source": [
        "# train_unlabel is a full dataset 8 features\n",
        "fuzzy_c_means1 = fuzzy_c(train_unlabel, 2, 2)\n",
        "\n",
        "#returned final memberships\n",
        "mem1 = fuzzy_c_means1.fit(10)\n",
        "\n",
        "#returned final pridections\n",
        "pridection1 = fuzzy_c_means1.pridect()"
      ]
    },
    {
      "cell_type": "code",
      "execution_count": null,
      "id": "b744bfc3",
      "metadata": {
        "id": "b744bfc3",
        "outputId": "6ee0a318-a8b8-44ae-a4be-6b5ffead2720"
      },
      "outputs": [
        {
          "data": {
            "text/plain": [
              "0.6531986531986532"
            ]
          },
          "execution_count": 19,
          "metadata": {},
          "output_type": "execute_result"
        }
      ],
      "source": [
        "# accuracy_score for full dataset pridections and true labels \n",
        "accuracy_score(pridection1, list(train_data['Survived']))"
      ]
    },
    {
      "cell_type": "code",
      "execution_count": null,
      "id": "8bec5c1c",
      "metadata": {
        "id": "8bec5c1c",
        "outputId": "652a1e78-5953-4745-e27b-391db6424c76"
      },
      "outputs": [
        {
          "name": "stdout",
          "output_type": "stream",
          "text": [
            "(8, 3)\n"
          ]
        }
      ],
      "source": [
        "#apply pca to reduce features to just 3 \n",
        "\n",
        "pca_data = pca(train_unlabel, 3)"
      ]
    },
    {
      "cell_type": "code",
      "execution_count": null,
      "id": "fca34aef",
      "metadata": {
        "id": "fca34aef",
        "outputId": "b0d8a672-a5b8-4a8d-c476-c71faf44449d"
      },
      "outputs": [
        {
          "data": {
            "text/plain": [
              "(891, 3)"
            ]
          },
          "execution_count": 21,
          "metadata": {},
          "output_type": "execute_result"
        }
      ],
      "source": [
        "pca_data.shape"
      ]
    },
    {
      "cell_type": "code",
      "execution_count": null,
      "id": "4f36c23e",
      "metadata": {
        "id": "4f36c23e"
      },
      "outputs": [],
      "source": [
        "# apply same fuzzy c_means to reduced data\n",
        "\n",
        "fuzzy_c_means2 = fuzzy_c(pca_data, 2, 2)\n",
        "\n",
        "mem2 = fuzzy_c_means2.fit(10)\n",
        "\n",
        "pridection2 = fuzzy_c_means2.pridect()"
      ]
    },
    {
      "cell_type": "code",
      "execution_count": null,
      "id": "7019f99d",
      "metadata": {
        "scrolled": true,
        "id": "7019f99d",
        "outputId": "527007f6-b1a5-4f47-fbca-22563e1efebf"
      },
      "outputs": [
        {
          "data": {
            "text/plain": [
              "0.6554433221099888"
            ]
          },
          "execution_count": 27,
          "metadata": {},
          "output_type": "execute_result"
        }
      ],
      "source": [
        "# accuracy_score for reduced dataset pridections and true labels \n",
        "accuracy_score(pridection2, list(train_data['Survived']))"
      ]
    }
  ],
  "metadata": {
    "kernelspec": {
      "display_name": "Python 3",
      "language": "python",
      "name": "python3"
    },
    "language_info": {
      "codemirror_mode": {
        "name": "ipython",
        "version": 3
      },
      "file_extension": ".py",
      "mimetype": "text/x-python",
      "name": "python",
      "nbconvert_exporter": "python",
      "pygments_lexer": "ipython3",
      "version": "3.8.8"
    },
    "colab": {
      "provenance": [],
      "include_colab_link": true
    }
  },
  "nbformat": 4,
  "nbformat_minor": 5
}